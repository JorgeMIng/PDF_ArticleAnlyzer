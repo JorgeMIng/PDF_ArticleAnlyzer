{
 "cells": [
  {
   "cell_type": "code",
   "execution_count": null,
   "metadata": {},
   "outputs": [],
   "source": [
    "\n",
    "# add the local libraries to the path\n",
    "\n",
    "import sys\n",
    "from pathlib import Path\n",
    "import os\n",
    "print(os.getcwd())\n",
    "father_path = Path(os.path.dirname(os.getcwd()))\n",
    "print(father_path)\n",
    "sys.path.append(os.path.join(father_path))\n",
    "\n",
    "\n",
    "\n",
    "from pdf_analyzer.api.visualize.links_search import LinksSearch\n",
    "from pdf_analyzer.config_load import load_config\n",
    "\n",
    "from omegaconf import OmegaConf\n",
    "import matplotlib.pyplot as plt\n",
    "%matplotlib inline"
   ]
  },
  {
   "cell_type": "code",
   "execution_count": null,
   "metadata": {},
   "outputs": [],
   "source": [
    "server_config = load_config(\"config/api/grobid-server-config.yaml\")\n",
    "link_config = load_config(\"config/api/list_links-config.yaml\")\n",
    "print(\"SERVER_CONFIG\\n\"+OmegaConf.to_yaml(server_config))\n",
    "print(\"LINK_CONFIG\\n\"+OmegaConf.to_yaml(link_config))"
   ]
  },
  {
   "cell_type": "markdown",
   "metadata": {},
   "source": [
    "### Modify the config files before starting or here with code\n",
    " For example\n",
    " \n",
    " server_config.protocol = https   "
   ]
  },
  {
   "cell_type": "code",
   "execution_count": null,
   "metadata": {},
   "outputs": [],
   "source": [
    "link_report = LinksSearch(link_config,server_config)"
   ]
  },
  {
   "cell_type": "code",
   "execution_count": null,
   "metadata": {},
   "outputs": [],
   "source": [
    "link_report.get_len()"
   ]
  },
  {
   "cell_type": "code",
   "execution_count": null,
   "metadata": {},
   "outputs": [],
   "source": [
    "link_report.print_all_reports()"
   ]
  }
 ],
 "metadata": {
  "kernelspec": {
   "display_name": "base",
   "language": "python",
   "name": "python3"
  },
  "language_info": {
   "codemirror_mode": {
    "name": "ipython",
    "version": 3
   },
   "file_extension": ".py",
   "mimetype": "text/x-python",
   "name": "python",
   "nbconvert_exporter": "python",
   "pygments_lexer": "ipython3",
   "version": "3.11.5"
  }
 },
 "nbformat": 4,
 "nbformat_minor": 2
}
