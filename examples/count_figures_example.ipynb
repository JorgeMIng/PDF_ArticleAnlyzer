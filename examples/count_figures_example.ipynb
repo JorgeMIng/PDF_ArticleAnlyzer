{
 "cells": [
  {
   "cell_type": "code",
   "execution_count": 1,
   "metadata": {},
   "outputs": [
    {
     "name": "stdout",
     "output_type": "stream",
     "text": [
      "e:\\Escritorio\\upm\\open_science\\PDF_ArticleAnlyzer\\examples\n",
      "e:\\Escritorio\\upm\\open_science\\PDF_ArticleAnlyzer\n"
     ]
    }
   ],
   "source": [
    "\n",
    "# add the local libraries to the path\n",
    "\n",
    "import sys\n",
    "from pathlib import Path\n",
    "import os\n",
    "print(os.getcwd())\n",
    "father_path = Path(os.path.dirname(os.getcwd()))\n",
    "print(father_path)\n",
    "sys.path.append(os.path.join(father_path))\n",
    "\n",
    "\n",
    "\n",
    "from pdf_analyzer.api.visualize.stadistic import CountAtritubte\n",
    "from pdf_analyzer.config_load import load_config\n",
    "\n",
    "from omegaconf import OmegaConf\n",
    "import matplotlib.pyplot as plt\n",
    "%matplotlib inline"
   ]
  },
  {
   "cell_type": "code",
   "execution_count": 2,
   "metadata": {},
   "outputs": [
    {
     "name": "stdout",
     "output_type": "stream",
     "text": [
      "SERVER_CONFIG\n",
      "url:\n",
      "  protocol: http\n",
      "  api_domain: yordi111nas.synology.me\n",
      "  port: 8070\n",
      "\n",
      "COUNT_CONFIG\n",
      "data:\n",
      "  data_dir: data/PDFs\n",
      "  format: .pdf\n",
      "  recursive: true\n",
      "grobid:\n",
      "  cache: true\n",
      "  cache_dir: data/xmls\n",
      "  operation_key: processFulltextDocument\n",
      "  format: .grobid.tei.xml\n",
      "  recursive: true\n",
      "plot:\n",
      "  width: 0.8\n",
      "  cache_dir: data/img/count_img\n",
      "  format: .png\n",
      "  align: center\n",
      "  color: blue\n",
      "  edgecolor: black\n",
      "count:\n",
      "  stats: figure\n",
      "\n"
     ]
    }
   ],
   "source": [
    "server_config = load_config(\"config/api/grobid-server-config.yaml\")\n",
    "count_config = load_config(\"config/api/count-config.yaml\")\n",
    "print(\"SERVER_CONFIG\\n\"+OmegaConf.to_yaml(server_config))\n",
    "print(\"COUNT_CONFIG\\n\"+OmegaConf.to_yaml(count_config))"
   ]
  },
  {
   "cell_type": "markdown",
   "metadata": {},
   "source": [
    "### Modify the config files before starting or here with code\n",
    " For example\n",
    " \n",
    " server_config.protocol = https   "
   ]
  },
  {
   "cell_type": "code",
   "execution_count": 3,
   "metadata": {},
   "outputs": [
    {
     "name": "stdout",
     "output_type": "stream",
     "text": [
      "grobid_logger: 2024-02-18 17:40:54,284 | INFO | stadistic.py:25 | 14128 >>> Stats to be count ['figure']\n",
      "http://yordi111nas.synology.me:8070/api/isalive\n",
      "GROBID server is up and running\n",
      "grobid_logger: 2024-02-18 17:40:59,163 | INFO | API.py:41 | 14128 >>> All files have been process by the api\n",
      "grobid_logger: 2024-02-18 17:40:59,284 | INFO | stadistic.py:42 | 14128 >>> All stats have been recorder from file Bert\n",
      "grobid_logger: 2024-02-18 17:40:59,349 | INFO | stadistic.py:42 | 14128 >>> All stats have been recorder from file Transformers\n"
     ]
    }
   ],
   "source": [
    "count = CountAtritubte(count_config,server_config)"
   ]
  },
  {
   "cell_type": "code",
   "execution_count": 4,
   "metadata": {},
   "outputs": [
    {
     "data": {
      "text/plain": [
       "2"
      ]
     },
     "execution_count": 4,
     "metadata": {},
     "output_type": "execute_result"
    }
   ],
   "source": [
    "count.get_len()"
   ]
  },
  {
   "cell_type": "code",
   "execution_count": 5,
   "metadata": {},
   "outputs": [
    {
     "data": {
      "text/plain": [
       "[17, 8]"
      ]
     },
     "execution_count": 5,
     "metadata": {},
     "output_type": "execute_result"
    }
   ],
   "source": [
    "count.list_stat(\"figure\")"
   ]
  },
  {
   "cell_type": "code",
   "execution_count": 6,
   "metadata": {},
   "outputs": [
    {
     "data": {
      "text/plain": [
       "['figure']"
      ]
     },
     "execution_count": 6,
     "metadata": {},
     "output_type": "execute_result"
    }
   ],
   "source": [
    "count.get_stats_names()"
   ]
  },
  {
   "cell_type": "code",
   "execution_count": null,
   "metadata": {},
   "outputs": [],
   "source": [
    "count.download_plots()"
   ]
  },
  {
   "cell_type": "code",
   "execution_count": null,
   "metadata": {},
   "outputs": [],
   "source": [
    "count.show_plots()"
   ]
  }
 ],
 "metadata": {
  "kernelspec": {
   "display_name": "base",
   "language": "python",
   "name": "python3"
  },
  "language_info": {
   "codemirror_mode": {
    "name": "ipython",
    "version": 3
   },
   "file_extension": ".py",
   "mimetype": "text/x-python",
   "name": "python",
   "nbconvert_exporter": "python",
   "pygments_lexer": "ipython3",
   "version": "3.11.5"
  }
 },
 "nbformat": 4,
 "nbformat_minor": 2
}
